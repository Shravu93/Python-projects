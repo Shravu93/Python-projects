{
  "nbformat": 4,
  "nbformat_minor": 0,
  "metadata": {
    "colab": {
      "provenance": [],
      "toc_visible": true,
      "authorship_tag": "ABX9TyM3vn4Y+IkYJLBcDnRuwCyp",
      "include_colab_link": true
    },
    "kernelspec": {
      "name": "python3",
      "display_name": "Python 3"
    },
    "language_info": {
      "name": "python"
    }
  },
  "cells": [
    {
      "cell_type": "markdown",
      "metadata": {
        "id": "view-in-github",
        "colab_type": "text"
      },
      "source": [
        "<a href=\"https://colab.research.google.com/github/Shravu93/Python-projects/blob/main/Statistics_Assessment.ipynb\" target=\"_parent\"><img src=\"https://colab.research.google.com/assets/colab-badge.svg\" alt=\"Open In Colab\"/></a>"
      ]
    },
    {
      "cell_type": "code",
      "execution_count": null,
      "metadata": {
        "colab": {
          "base_uri": "https://localhost:8080/"
        },
        "id": "zj4LJYeK8KG2",
        "outputId": "039b8d05-18b7-45d0-a558-6911b7cc71eb"
      },
      "outputs": [
        {
          "output_type": "stream",
          "name": "stdout",
          "text": [
            "Reject the null hypothesis\n",
            "t-statistic: 5.279678488144336\n",
            "p-value: 3.958455659714791e-07\n",
            "Critical t-value: 1.9742473416800348\n"
          ]
        }
      ],
      "source": [
        "# Module 1. Introduction to Statistics (April 2023)\n",
        "# Question 1. There is an assumption that there is no significant difference between boys and\n",
        "#girls with respect to intelligence. Tests are conducted on two groups and the following are\n",
        "#the observations\n",
        "#Mean Standard Deviation Size\n",
        "#Girls 89 4 50\n",
        "#Boys 82 9 120\n",
        "\n",
        "#Validate the claim with 5% LoS (Level of Significance).\n",
        "\n",
        "import scipy.stats as stats\n",
        "\n",
        "# Sample data\n",
        "girls_mean = 89\n",
        "girls_std = 4\n",
        "girls_size = 50\n",
        "\n",
        "boys_mean = 82\n",
        "boys_std = 9\n",
        "boys_size = 120\n",
        "\n",
        "# Set the significance level\n",
        "alpha = 0.05\n",
        "\n",
        "# Calculate the degrees of freedom\n",
        "df = (girls_std**2 / girls_size + boys_std**2 / boys_size)**2 / (\n",
        "    (girls_std**2 / girls_size)**2 / (girls_size - 1) + (boys_std**2 / boys_size)**2 / (boys_size - 1)\n",
        ")\n",
        "\n",
        "# Perform the two-sample t-test\n",
        "t_statistic, p_value = stats.ttest_ind_from_stats(\n",
        "    girls_mean, girls_std, girls_size, boys_mean, boys_std, boys_size\n",
        ")\n",
        "\n",
        "# Calculate the critical t-value\n",
        "critical_t = stats.t.ppf(1 - alpha / 2, df)\n",
        "\n",
        "# Compare the calculated t-statistic to the critical t-value\n",
        "if abs(t_statistic) > critical_t:\n",
        "    print(\"Reject the null hypothesis\")\n",
        "else:\n",
        "    print(\"Fail to reject the null hypothesis\")\n",
        "\n",
        "# Print the results\n",
        "print(\"t-statistic:\", t_statistic)\n",
        "print(\"p-value:\", p_value)\n",
        "print(\"Critical t-value:\", critical_t)\n",
        "\n",
        "\n",
        "\n"
      ]
    },
    {
      "cell_type": "code",
      "source": [
        "\n",
        "\n",
        "# Question 2. Analyze the below data and tell whether you can conclude that smoking causes\n",
        "#cancer or not?\n",
        "\n",
        "\n",
        "#Category Diagnosed as Cancer Without Cancer Total\n",
        "\n",
        "#Smokers 220 ,230, 550\n",
        "\n",
        "#Non-Smokers 350,640 ,990\n",
        "\n",
        "#Total 680, 910, 1590 ,\n",
        "\n",
        "\n",
        "import pandas as pd\n",
        "\n",
        "# Create a DataFrame from the data\n",
        "data = {\n",
        "    \"Category\": [\"Smokers\", \"Non-Smokers\",\"Total\"],\n",
        "    \"Diagnosed as Cancer\": [220, 230, 550],\n",
        "    \"Without Cancer\": [230, 640, 990]\n",
        "}\n",
        "\n",
        "df = pd.DataFrame(data)\n",
        "\n",
        "# Calculate the odds ratio\n",
        "odds_ratio = ((220 / 230) / (350 / 640))\n",
        "\n",
        "# Print the odds ratio\n",
        "print(\"Odds ratio:\", odds_ratio)\n",
        "if odds_ratio <1:\n",
        "   print(\"smoking causes no cancer\")\n",
        "else:\n",
        "    print(\"smoking causes cancer.\")\n",
        "\n",
        "\n"
      ],
      "metadata": {
        "colab": {
          "base_uri": "https://localhost:8080/"
        },
        "id": "0NYhR-Ig8hfN",
        "outputId": "4ef35ab5-e68f-4dae-8406-bdf18f4087cf"
      },
      "execution_count": 23,
      "outputs": [
        {
          "output_type": "stream",
          "name": "stdout",
          "text": [
            "Odds ratio: 1.7490683229813666\n",
            "smoking causes cancer.\n"
          ]
        }
      ]
    }
  ]
}