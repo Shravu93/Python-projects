{
  "nbformat": 4,
  "nbformat_minor": 0,
  "metadata": {
    "colab": {
      "provenance": [],
      "authorship_tag": "ABX9TyNdmZPCFFxRNNLjm7HWCm57",
      "include_colab_link": true
    },
    "kernelspec": {
      "name": "python3",
      "display_name": "Python 3"
    },
    "language_info": {
      "name": "python"
    }
  },
  "cells": [
    {
      "cell_type": "markdown",
      "metadata": {
        "id": "view-in-github",
        "colab_type": "text"
      },
      "source": [
        "<a href=\"https://colab.research.google.com/github/Shravu93/Python-projects/blob/main/Statistics_assignment.ipynb\" target=\"_parent\"><img src=\"https://colab.research.google.com/assets/colab-badge.svg\" alt=\"Open In Colab\"/></a>"
      ]
    },
    {
      "cell_type": "code",
      "execution_count": 1,
      "metadata": {
        "id": "yHol9WtCvH67"
      },
      "outputs": [],
      "source": [
        "# Statistics"
      ]
    },
    {
      "cell_type": "code",
      "source": [
        "# 1) Bu siness Problem: A retail store wants to analyze the sales data of a particular\n",
        "#product category to understand the typical sales performance and make strategic\n",
        "#decisions.\n",
        "#Data:\n",
        "#Let's consider the weekly sales data (in units) for the past month for a specific product\n",
        "#category:\n",
        "#Week 1: 50 units\n",
        "#Week 2: 60 units\n",
        "#Week 3: 55 units\n",
        "#Week 4: 70 units\n",
        "#Question:\n",
        "#1. Mean: What is the average weekly sales of the product category?\n",
        "#2. Median: What is the typical or central sales value for the product category?\n",
        "#3. Mode: Are there any recurring or most frequently occurring sales figures for the\n",
        "#product category?\n",
        "#By answering these questions using the mean, median, and mode, the retail store can\n",
        "#gain insights into the sales performance of the product category, identify any patterns or\n",
        "#outliers, and make informed decisions regarding stock management, marketing\n",
        "#strategies, and product placement.\n",
        "\n",
        "\n",
        "import statistics\n",
        "\n",
        "# Create a list of the weekly sales data\n",
        "weekly_sales = [50, 60, 55, 70]\n",
        "\n",
        "# Calculate the mean\n",
        "mean = statistics.mean(weekly_sales)\n",
        "\n",
        "# Calculate the median\n",
        "median = statistics.median(weekly_sales)\n",
        "\n",
        "# Calculate the mode\n",
        "mode = statistics.mode(weekly_sales)\n",
        "\n",
        "# Print the results\n",
        "print(\"Mean:\", mean)\n",
        "print(\"Median:\", median)\n",
        "print(\"Mode:\", mode)\n",
        "\n",
        "\n",
        "\n"
      ],
      "metadata": {
        "colab": {
          "base_uri": "https://localhost:8080/"
        },
        "id": "HCAw_1GfwBtO",
        "outputId": "598e57a4-423d-4f0e-eabc-2839b165ad65"
      },
      "execution_count": 2,
      "outputs": [
        {
          "output_type": "stream",
          "name": "stdout",
          "text": [
            "Mean: 58.75\n",
            "Median: 57.5\n",
            "Mode: 50\n"
          ]
        }
      ]
    },
    {
      "cell_type": "code",
      "source": [
        "# 2) Business Problem: A restaurant wants to analyze the waiting times of its\n",
        "    #customers to understand the typical waiting experience and improve service\n",
        "   #efficiency.\n",
        "\n",
        "# Data:\n",
        "#Let's consider the waiting times (in minutes) for the past 20 customers:\n",
        "#15, 10, 20, 25, 15, 10, 30, 20, 15, 10,\n",
        "#10, 25, 15, 20, 20, 15, 10, 10, 20, 25\n",
        "#Question:\n",
        "#1. Mean: What is the average waiting time for customers at the restaurant?\n",
        "#2. Median: What is the typical or central waiting time experienced by customers?\n",
        "#3. Mode: Are there any recurring or most frequently occurring waiting times for\n",
        "#customers?\n",
        "\n",
        "\n",
        "import statistics\n",
        "\n",
        "# Create a list of waiting times\n",
        "waiting_times = [15, 10, 20, 25, 15, 10, 30, 20, 15, 10, 10, 25, 15, 20, 20, 15, 10, 10, 20, 25]\n",
        "\n",
        "# Calculate the mean\n",
        "mean = statistics.mean(waiting_times)\n",
        "\n",
        "# Calculate the median\n",
        "median = statistics.median(waiting_times)\n",
        "\n",
        "# Calculate the mode\n",
        "mode = statistics.mode(waiting_times)\n",
        "\n",
        "# Print the results\n",
        "print(\"Mean:\", mean)\n",
        "print(\"Median:\", median)\n",
        "print(\"Mode:\", mode)\n"
      ],
      "metadata": {
        "colab": {
          "base_uri": "https://localhost:8080/"
        },
        "id": "SQoUhUGXwut2",
        "outputId": "48b9dd15-61ff-461f-bc5d-332b511cc2d9"
      },
      "execution_count": 3,
      "outputs": [
        {
          "output_type": "stream",
          "name": "stdout",
          "text": [
            "Mean: 17\n",
            "Median: 15.0\n",
            "Mode: 10\n"
          ]
        }
      ]
    },
    {
      "cell_type": "code",
      "source": [
        "# 3) Business Problem: A car rental company wants to analyze the rental durations of\n",
        "#its customers to understand the typical rental period and optimize its pricing and\n",
        "#fleet management strategies.\n",
        "#Data:\n",
        "#Let's consider the rental durations (in days) for a sample of 50 customers:\n",
        "#3, 2, 5, 4, 7, 2, 3, 3, 1, 6,\n",
        "#4, 2, 3, 5, 2, 4, 2, 1, 3, 5,\n",
        "#6, 3, 2, 1, 4, 2, 4, 5, 3, 2,\n",
        "#7, 2, 3, 4, 5, 1, 6, 2, 4, 3,\n",
        "#5, 3, 2, 4, 2, 6, 3, 2, 4, 5\n",
        "#Question:\n",
        "#1. Mean: What is the average rental duration for customers at the car rental company?\n",
        "#2. Median: What is the typical or central rental duration experienced by customers?\n",
        "#3. Mode: Are there any recurring or most frequently occurring rental durations for\n",
        "#customers?\n",
        "#By answering these questions using the mean, median, and mode, the car rental\n",
        "#company can gain insights into the average rental duration, understand the most\n",
        "#common rental periods, and make informed decisions regarding pricing, fleet size, and\n",
        "#availability. Additionally, this analysis can help the company optimize resource allocation,\n",
        "#plan for peak demand periods, and enhance customer satisfaction by aligning service\n",
        "#offerings with customers' typical rental needs.\n",
        "\n",
        "import statistics\n",
        "\n",
        "# Create a list of rental durations\n",
        "rental_durations = [3, 2, 5, 4, 7, 2, 3, 3, 1, 6, 4, 2, 3, 5, 2, 4, 2, 1, 3, 5, 6, 3, 2, 1, 4, 2, 4, 5, 3, 2, 7, 2, 3, 4, 5, 1, 6, 2, 4, 3, 5, 3, 2, 4, 2, 6, 3, 2, 4, 5]\n",
        "\n",
        "# Calculate the mean\n",
        "mean = statistics.mean(rental_durations)\n",
        "\n",
        "# Calculate the median\n",
        "median = statistics.median(rental_durations)\n",
        "\n",
        "# Calculate the mode\n",
        "mode = statistics.mode(rental_durations)\n",
        "\n",
        "# Print the results\n",
        "print(\"Mean:\", mean)\n",
        "print(\"Median:\", median)\n",
        "print(\"Mode:\", mode)\n"
      ],
      "metadata": {
        "colab": {
          "base_uri": "https://localhost:8080/"
        },
        "id": "pobKoSedxsm5",
        "outputId": "a28e34fc-e2ef-46e6-8a46-a23dc8f16f32"
      },
      "execution_count": 4,
      "outputs": [
        {
          "output_type": "stream",
          "name": "stdout",
          "text": [
            "Mean: 3.44\n",
            "Median: 3.0\n",
            "Mode: 2\n"
          ]
        }
      ]
    },
    {
      "cell_type": "code",
      "source": [
        "\n",
        "\n",
        "# Questions on measure of dispersion\n",
        "\n",
        "\n",
        "#1) Problem: A manufacturing company wants to analyze the production output of a\n",
        "#specific machine to understand the variability or spread in its performance.\n",
        "#Data:\n",
        "#Let's consider the number of units produced per hour by the machine for a sample of 10\n",
        "#working days:\n",
        "#Day 1: 120 units\n",
        "#Day 2: 110 units\n",
        "#Day 3: 130 units\n",
        "#Day 4: 115 units\n",
        "#Day 5: 125 units\n",
        "#Day 6: 105 units\n",
        "#Day 7: 135 units\n",
        "#Day 8: 115 units\n",
        "#Day 9: 125 units\n",
        "#Day 10: 140 units\n",
        "#Question:\n",
        "#1. Range: What is the range of the production output for the machine?\n",
        "#2. Variance: What is the variance of the production output for the machine?\n",
        "#3. Standard Deviation: What is the standard deviation of the production output for the\n",
        "#machine?\n",
        "\n",
        "import pandas as pd\n",
        "import numpy as np\n",
        "\n",
        "\n",
        "# Create a list of production output\n",
        "production_output = [120, 110, 130, 115, 125, 105, 135, 115, 125, 140]\n",
        "\n",
        "# Calculate the range\n",
        "range = max(production_output) - min(production_output)\n",
        "\n",
        "# Calculate the variance\n",
        "variance = np.var(production_output)\n",
        "\n",
        "# Calculate the standard deviation\n",
        "standard_deviation = np.std(production_output)\n",
        "\n",
        "# Print the results\n",
        "print(\"Range:\", range)\n",
        "print(\"Variance:\", variance)\n",
        "print(\"Standard deviation:\", standard_deviation)\n",
        "\n"
      ],
      "metadata": {
        "colab": {
          "base_uri": "https://localhost:8080/"
        },
        "id": "I1k0MXx0yIfz",
        "outputId": "585352df-ae05-4f98-8005-c4fd81290c28"
      },
      "execution_count": 5,
      "outputs": [
        {
          "output_type": "stream",
          "name": "stdout",
          "text": [
            "Range: 35\n",
            "Variance: 111.0\n",
            "Standard deviation: 10.535653752852738\n"
          ]
        }
      ]
    },
    {
      "cell_type": "code",
      "source": [
        "\n",
        "# 2 Problem: An e-commerce platform wants to analyze the delivery times of its\n",
        "#shipments to understand the variability in order fulfillment and optimize its\n",
        "#logistics operations.\n",
        "#Data:\n",
        "#Let's consider the delivery times (in days) for a sample of 50 shipments:\n",
        "#3, 5, 2, 4, 6, 2, 3, 4, 2, 5,\n",
        "#7, 2, 3, 4, 2, 4, 2, 3, 5, 6,\n",
        "#3, 2, 1, 4, 2, 4, 5, 3, 2, 7,\n",
        "#2, 3, 4, 5, 1, 6, 2, 4, 3, 5,\n",
        "#3, 2, 4, 2, 6, 3, 2, 4, 5, 3\n",
        "#Questions:\n",
        "#1. Range: What is the range of the delivery times?\n",
        "#2. Variance: What is the variance of the delivery times?\n",
        "#3. Standard Deviation: What is the standard deviation of the delivery times?\n",
        "\n",
        "import numpy as np\n",
        "\n",
        "# Define the delivery times data\n",
        "delivery_times = np.array([3, 5, 2, 4, 6, 2, 3, 4, 2, 5, 7, 2, 3, 4, 2, 4, 2, 3, 5, 6, 3, 2, 1, 4, 2, 4, 5, 3, 2, 7, 2, 3, 4, 5, 1, 6, 2, 4, 3, 5, 3, 2, 4, 2, 6, 3, 2, 4, 5, 3])\n",
        "\n",
        "# Calculate the range\n",
        "range_ = np.max(delivery_times) - np.min(delivery_times)\n",
        "print(\"Range:\", range_)\n",
        "\n",
        "# Calculate the variance\n",
        "variance = np.var(delivery_times)\n",
        "print(\"Variance:\", variance)\n",
        "\n",
        "# Calculate the standard deviation\n",
        "standard_deviation = np.std(delivery_times)\n",
        "print(\"Standard Deviation:\", standard_deviation)\n"
      ],
      "metadata": {
        "colab": {
          "base_uri": "https://localhost:8080/"
        },
        "id": "cKM5JadezLtU",
        "outputId": "4f23ccab-dd7a-404c-f184-c7ccb9ef770f"
      },
      "execution_count": 6,
      "outputs": [
        {
          "output_type": "stream",
          "name": "stdout",
          "text": [
            "Range: 6\n",
            "Variance: 2.2896\n",
            "Standard Deviation: 1.513142425550219\n"
          ]
        }
      ]
    },
    {
      "cell_type": "code",
      "source": [
        "\n",
        "# Questions on Measure of Skewness and Kurtosis\n",
        "\n",
        "# 1) Question : A company wants to analyze the monthly returns of its investment\n",
        "#portfolio to understand the distribution and risk associated with the returns.\n",
        "#Data:\n",
        "#Let's consider the monthly returns (%) for the portfolio over a one-year period:\n",
        "#Returns: -2.5, 1.3, -0.8, -1.9, 2.1, 0.5, -1.2, 1.8, -0.5, 2.3,\n",
        "#-0.7, 1.2, -1.5, -0.3, 2.6, 1.1, -1.7, 0.9, -1.4, 0.3,\n",
        "#1.9, -1.1, -0.4, 2.2, -0.9, 1.6, -0.6, -1.3, 2.4, 0.7,\n",
        "#-1.8, 1.5, -0.2, -2.1, 2.8, 0.8, -1.6, 1.4, -0.1, 2.5,\n",
        "#-1.0, 1.7, -0.9, -2.0, 2.7, 0.6, -1.4, 1.1, -0.3, 2.0\n",
        "#Questions:\n",
        "#1. Skewness: Calculate the skewness of the monthly returns.\n",
        "#2. Kurtosis: Calculate the kurtosis of the monthly returns.\n",
        "#3. Interpretation: Based on the skewness and kurtosis values, what can be said about\n",
        "#the distribution of returns?\n",
        "\n",
        "import numpy as np\n",
        "from scipy.stats import skew, kurtosis\n",
        "\n",
        "# Create a NumPy array of the monthly returns\n",
        "returns = np.array([-2.5, 1.3, -0.8, -1.9, 2.1, 0.5, -1.2, 1.8, -0.5, 2.3, -0.7, 1.2, -1.5, -0.3, 2.6, 1.1, -1.7, 0.9, -1.4, 0.3, 1.9, -1.1, -0.4, 2.2, -0.9, 1.6, -0.6, -1.3, 2.4, 0.7, -1.8, 1.5, -0.2, -2.1, 2.8, 0.8, -1.6, 1.4, -0.1, 2.5, -1.0, 1.7, -0.9, -2.0, 2.7, 0.6, -1.4, 1.1, -0.3, 2.0])\n",
        "\n",
        "# Calculate the skewness and kurtosis\n",
        "skewness = skew(returns)\n",
        "kurtosis = kurtosis(returns)\n",
        "\n",
        "# Print the results\n",
        "print(\"Skewness:\", skewness)\n",
        "print(\"Kurtosis:\", kurtosis)\n",
        "\n"
      ],
      "metadata": {
        "colab": {
          "base_uri": "https://localhost:8080/"
        },
        "id": "nNwhGnWJzk2Z",
        "outputId": "fd27e61e-4bb7-4c99-a5d1-448075a25885"
      },
      "execution_count": 7,
      "outputs": [
        {
          "output_type": "stream",
          "name": "stdout",
          "text": [
            "Skewness: 0.05289580603481756\n",
            "Kurtosis: -1.2950729066374378\n"
          ]
        }
      ]
    },
    {
      "cell_type": "code",
      "source": [
        "#  Question : A study wants to analyze the distribution of house prices in a specific\n",
        "#city to understand the market trends.\n",
        "#Data:\n",
        "#Let's consider the house prices (in thousands of dollars) for\n",
        "#a sample of 150 houses:\n",
        "#House Prices: 280, 350, 310, 270, 390, 320, 290, 340, 310, 380,\n",
        "#270, 350, 300, 330, 370, 310, 280, 320, 350, 290,\n",
        "#270, 350, 300, 330, 370, 310, 280, 320, 350, 290,\n",
        "#270, 350, 300, 330, 370, 310, 280, 320, 350, 290,\n",
        "#270, 350, 300, 330, 370, 310, 280, 320, 350, 290,\n",
        "#270, 350, 300, 330, 370, 310, 280, 320, 350, 290,\n",
        "#270, 350, 300, 330, 370, 310, 280, 320, 350, 290,\n",
        "#270, 350, 300, 330, 370, 310, 280, 320, 350, 290,\n",
        "#270, 350, 300, 330, 370, 310, 280, 320, 350, 290,\n",
        "#270, 350, 300, 330, 370, 310, 280, 320, 350, 290\n",
        "#Questions:\n",
        "#1. Skewness: Calculate the skewness of the house price distribution.\n",
        "#2. Kurtosis: Calculate the kurtosis of the house price distribution.\n",
        "#3. Interpretation: Based on the skewness and kurtosis values, what can be inferred\n",
        "#about the distribution of house prices?\n",
        "\n",
        "import numpy as np\n",
        "\n",
        "# Create a NumPy array of the house prices\n",
        "house_prices = np.array([280, 350, 310, 270, 390, 320, 290, 340, 310, 380, 270, 350, 300, 330, 370, 310, 280, 320, 350, 290, 270, 350, 300, 330, 370, 310, 280, 320, 350, 290, 270, 350, 300, 330, 370, 310, 280, 320, 350, 290, 270, 350, 300, 330, 370, 310, 280, 320, 350, 290, 270, 350, 300, 330, 370, 310, 280, 320, 350, 290, 270, 350, 300, 330, 370, 310, 280, 320, 350, 290])\n",
        "\n",
        "# Calculate the skewness and kurtosis\n",
        "skewness = np.mean((house_prices - house_prices.mean())**3) / (house_prices.std()**3)\n",
        "kurtosis = np.mean((house_prices - house_prices.mean())**4) / (house_prices.std()**4)\n",
        "\n",
        "# Print the results\n",
        "print(\"Skewness:\", skewness)\n",
        "print(\"Kurtosis:\", kurtosis)\n",
        "\n"
      ],
      "metadata": {
        "colab": {
          "base_uri": "https://localhost:8080/"
        },
        "id": "-KrCPtNA0e3y",
        "outputId": "89e9d12d-6458-4a82-8676-4d01c63e4b5d"
      },
      "execution_count": 8,
      "outputs": [
        {
          "output_type": "stream",
          "name": "stdout",
          "text": [
            "Skewness: 0.2285694277267923\n",
            "Kurtosis: 1.9906381303171092\n"
          ]
        }
      ]
    },
    {
      "cell_type": "code",
      "source": [
        "# Questions on Percentile and Quartiles\n",
        "\n",
        "\n",
        "#  Question : A research study wants to analyze the weight distribution of a sample\n",
        "#of individuals to assess their health and body composition.\n",
        "#data:\n",
        "#Let's consider the weights (in kilograms) of a sample of 100 individuals:\n",
        "#Weights: 55, 60, 62, 65, 68, 70, 72, 75, 78, 80,\n",
        "#82, 85, 88, 90, 92, 95, 100, 105, 110, 115,\n",
        "#120, 125, 130, 135, 140, 145, 150, 155, 160, 165,\n",
        "#170, 175, 180, 185, 190, 195, 200, 205, 210, 215,\n",
        "#220, 225, 230, 235, 240, 245, 250, 255, 260, 265,\n",
        "#270, 275, 280, 285, 290, 295, 300, 305, 310, 315,\n",
        "#320, 325, 330, 335, 340, 345, 350, 355, 360, 365,\n",
        "#3370, 375,\n",
        "#380, 385, 390, 395, 400, 405, 410, 415,\n",
        "#420, 425, 430, 435, 440, 445, 450, 455, 460, 465,\n",
        "#470, 475, 480, 485, 490, 495, 500, 505, 510, 515\n",
        "#Questions:\n",
        "#1. Quartiles: Calculate the first quartile (Q1), median (Q2), and third quartile (Q3) of the\n",
        "#weight distribution.\n",
        "#32. Percentiles: Calculate the 15th percentile, 50th percentile, and 85th percentile of the\n",
        "#weight distribution.\n",
        "#3. Interpretation: Based on the quartiles\n",
        "\n",
        "import numpy as np\n",
        "\n",
        "# Create a NumPy array of the weights\n",
        "weights = np.array([55, 60, 62, 65, 68, 70, 72, 75, 78, 80, 82, 85, 88, 90, 92, 95, 100, 105, 110, 115, 120, 125, 130, 135, 140, 145, 150, 155, 160, 165, 170, 175, 180, 185, 190, 195, 200, 205, 210, 215, 220, 225, 230, 235, 240, 245, 250, 255, 260, 265, 270, 275, 280, 285, 290, 295, 300, 305, 310, 315, 320, 325, 330, 335, 340, 345, 350, 355, 360, 365, 370, 375, 380, 385, 390, 395, 400, 405, 410, 415, 420, 425, 430, 435, 440, 445, 450, 455, 460, 465, 470, 475, 480, 485, 490, 495, 500, 505, 510, 515])\n",
        "\n",
        "# Calculate the first quartile (Q1)\n",
        "Q1 = np.percentile(weights, 25)\n",
        "\n",
        "# Calculate the median (Q2)\n",
        "Q2 = np.percentile(weights, 50)\n",
        "\n",
        "# Calculate the third quartile (Q3)\n",
        "Q3 = np.percentile(weights, 75)\n",
        "\n",
        "# Print the quartiles\n",
        "print(\"Q1:\", Q1)\n",
        "print(\"Q2:\", Q2)\n",
        "print(\"Q3:\", Q3)\n"
      ],
      "metadata": {
        "colab": {
          "base_uri": "https://localhost:8080/"
        },
        "id": "x5amr45c0_4X",
        "outputId": "86422788-9873-40ac-d254-d858220f141d"
      },
      "execution_count": 9,
      "outputs": [
        {
          "output_type": "stream",
          "name": "stdout",
          "text": [
            "Q1: 143.75\n",
            "Q2: 267.5\n",
            "Q3: 391.25\n"
          ]
        }
      ]
    },
    {
      "cell_type": "code",
      "source": [
        "# Question : A retail store wants to analyze the distribution of customer purchase\n",
        "#amounts to identify their spending patterns.\n",
        "#Data:\n",
        "#Let's consider the purchase amounts (in dollars) of a sample of 150 customers:\n",
        "#Purchase Amounts: 20, 25, 30, 35, 40, 45, 50, 55, 60, 65,\n",
        "#70, 75, 80, 85, 90, 95, 100, 105, 110, 115,\n",
        "#120, 125, 130, 135, 140, 145, 150, 155, 160, 165,\n",
        "#170, 175, 180, 185, 190, 195, 200, 205, 210, 215,\n",
        "#220, 225, 230, 235, 240, 245, 250, 255, 260, 265,\n",
        "#270, 275, 280, 285, 290, 295, 300, 305, 310, 315,\n",
        "#320, 325, 330, 335, 340, 345, 350, 355, 360, 365,\n",
        "#370, 375, 380, 385, 390, 395, 400, 405, 410, 415,\n",
        "#420, 425, 430, 435, 440, 445, 450, 455, 460, 465,\n",
        "#470, 475, 480, 485, 490, 495, 500, 505, 510, 515,\n",
        "#520, 525, 530, 535, 540, 545, 550, 555, 560, 565\n",
        "#Questions:\n",
        "#1. Quartiles: Calculate the first quartile (Q1), median (Q2), and third quartile (Q3) of the\n",
        "#purchase amount distribution.\n",
        "#2. Percentiles: Calculate the 20th percentile, 40th percentile, and 80th percentile of the\n",
        "#purchase amount distribution.\n",
        "#3. Interpretation: Based on the quartiles and percentiles, what can be inferred about the\n",
        "#spending patterns of the customers?\n",
        "\n",
        "import numpy as np\n",
        "\n",
        "# Purchase amounts\n",
        "purchase_amounts = np.array([20, 25, 30, 35, 40, 45, 50, 55, 60, 65, 70, 75, 80, 85, 90, 95, 100, 105, 110, 115, 120, 125, 130, 135, 140, 145, 150, 155, 160, 165, 170, 175, 180, 185, 190, 195, 200, 205, 210, 215, 220, 225, 230, 235, 240, 245, 250, 255, 260, 265, 270, 275, 280, 285, 290, 295, 300, 305, 310, 315, 320, 325, 330, 335, 340, 345, 350, 355, 360, 365, 370, 375, 380, 385, 390, 395, 400, 405, 410, 415, 420, 425, 430, 435, 440, 445, 450, 455, 460, 465, 470, 475, 480, 485, 490, 495, 500, 505, 510, 515, 520, 525, 530, 535, 540, 545, 550, 555, 560, 565])\n",
        "\n",
        "# Calculate quartiles\n",
        "quartiles = np.percentile(purchase_amounts, [25, 50, 75])\n",
        "\n",
        "# Calculate percentiles\n",
        "percentiles = np.percentile(purchase_amounts, [20, 40, 80])\n",
        "\n",
        "# Print results\n",
        "print(\"Quartiles:\")\n",
        "print(\"Q1:\", quartiles[0])\n",
        "print(\"Q2:\", quartiles[1])\n",
        "print(\"Q3:\", quartiles[-1])\n",
        "\n",
        "print(\"Percentiles:\")\n",
        "print(\"20th percentile:\", percentiles[0])\n",
        "print(\"40th percentile:\", percentiles[1])\n",
        "print(\"80th percentile:\", percentiles[-1])\n",
        "\n"
      ],
      "metadata": {
        "colab": {
          "base_uri": "https://localhost:8080/"
        },
        "id": "8hWnSNLF1lsI",
        "outputId": "a0ff728d-7e72-4ae0-84b8-18ec3828ca43"
      },
      "execution_count": 10,
      "outputs": [
        {
          "output_type": "stream",
          "name": "stdout",
          "text": [
            "Quartiles:\n",
            "Q1: 156.25\n",
            "Q2: 292.5\n",
            "Q3: 428.75\n",
            "Percentiles:\n",
            "20th percentile: 129.0\n",
            "40th percentile: 238.0\n",
            "80th percentile: 456.0\n"
          ]
        }
      ]
    },
    {
      "cell_type": "code",
      "source": [
        "\n",
        "# Questions on Correlation and Covariance\n",
        "\n",
        "# Question 1: A marketing department wants to understand the relationship between\n",
        "#advertising expenditure and sales revenue to assess the effectiveness of their\n",
        "#advertising campaigns.\n",
        "#Data:\n",
        "#Let's consider the monthly advertising expenditure (in thousands of dollars) and\n",
        "#corresponding sales revenue (in thousands of dollars) for a sample of 12 months:\n",
        "#Advertising Expenditure: 10, 12, 15, 18, 20, 22, 25, 28, 30, 32, 35, 38\n",
        "#Sales Revenue: 50, 55, 60, 65, 70, 75, 80, 85, 90, 95, 100, 105\n",
        "#Question:\n",
        "#Calculate the correlation coefficient between advertising expenditure and sales revenue.\n",
        "#Interpret the value of the correlation coefficient and explain the nature of the relationship\n",
        "#between advertising expenditure and sales revenue.\n",
        "#By analyzing the correlation coefficient, the marketing department can determine the\n",
        "#strength and direction of the relationship between advertising expenditure and sales\n",
        "#revenue. This information can help them make informed decisions about allocating their\n",
        "#advertising budget and optimizing their marketing strategies.\n",
        "\n",
        "import numpy as np\n",
        "import pandas as pd\n",
        "\n",
        "# Create a DataFrame with the advertising expenditure and sales revenue data\n",
        "df = pd.DataFrame({'advertising_expenditure': [10, 12, 15, 18, 20, 22, 25, 28, 30, 32, 35, 38],\n",
        "                   'sales_revenue': [50, 55, 60, 65, 70, 75, 80, 85, 90, 95, 100, 105]})\n",
        "\n",
        "# Calculate the correlation coefficient using the Pearson correlation coefficient\n",
        "correlation_coefficient = np.corrcoef(df['advertising_expenditure'], df['sales_revenue'])[0, 1]\n",
        "\n",
        "# Print the correlation coefficient\n",
        "print(correlation_coefficient)\n"
      ],
      "metadata": {
        "colab": {
          "base_uri": "https://localhost:8080/"
        },
        "id": "KhyniRVD2AQp",
        "outputId": "8f61cec1-9e3a-4b0b-aa9c-1dcabc0408f9"
      },
      "execution_count": 11,
      "outputs": [
        {
          "output_type": "stream",
          "name": "stdout",
          "text": [
            "0.9992103100366481\n"
          ]
        }
      ]
    },
    {
      "cell_type": "code",
      "source": [
        "\n",
        "\n",
        "# 2 Question : An investment analyst wants to assess the relationship between the\n",
        "#stock prices of two companies to identify potential investment opportunities.\n",
        "#Data:\n",
        "#Let's consider the daily closing prices (in dollars) of Company A and Company B for a\n",
        "#sample of 20 trading days:\n",
        "#Company A: 45, 47, 48, 50, 52, 53, 55, 56, 58, 60, 62, 64, 65, 67, 69, 70, 72, 74, 76, 77\n",
        "#Company B: 52, 54, 55, 57, 59, 60, 61, 62, 64, 66, 67, 69, 71, 73, 74, 76, 78, 80, 82, 83\n",
        "\n",
        "#Question:\n",
        "#Calculate the covariance between the stock prices of Company A and Company B.\n",
        "#Interpret the value of the covariance and explain the nature of the relationship between\n",
        "#the two stocks.\n",
        "#By analyzing the covariance, the investment analyst can determine whether the stock\n",
        "#prices of Company A and Company B move together (positive covariance) or in opposite\n",
        "#directions (negative covariance). This information can assist in identifying potential\n",
        "#investment opportunities and understanding the diversification benefits of combining\n",
        "#these stocks in a portfolio.\n",
        "\n",
        "# Import the necessary libraries:\n",
        "\n",
        "import numpy as np\n",
        "\n",
        "# Daily closing prices of Company A and Company B\n",
        "company_a = np.array([45, 47, 48, 50, 52, 53, 55, 56, 58, 60, 62, 64, 65, 67, 69, 70, 72, 74, 76, 77])\n",
        "company_b = np.array([52, 54, 55, 57, 59, 60, 61, 62, 64, 66, 67, 69, 71, 73, 74, 76, 78, 80, 82, 83])\n",
        "\n",
        "# Calculate the covariance\n",
        "covariance = np.cov(company_a, company_b)[0][1]\n",
        "\n",
        "print(\"Covariance between Company A and Company B:\", covariance)\n",
        "\n",
        "\n",
        "\n",
        "\n",
        "\n",
        "\n",
        "\n",
        "\n",
        "\n"
      ],
      "metadata": {
        "colab": {
          "base_uri": "https://localhost:8080/"
        },
        "id": "8iraAz8Q2fAg",
        "outputId": "168a4a2e-b9d8-4606-fa42-ed6bb9f63e5d"
      },
      "execution_count": 21,
      "outputs": [
        {
          "output_type": "stream",
          "name": "stdout",
          "text": [
            "Covariance between Company A and Company B: 97.52631578947368\n"
          ]
        }
      ]
    },
    {
      "cell_type": "code",
      "source": [],
      "metadata": {
        "id": "epw0I0GH4pv3"
      },
      "execution_count": null,
      "outputs": []
    },
    {
      "cell_type": "code",
      "source": [],
      "metadata": {
        "id": "GaC-DeZo4SKp"
      },
      "execution_count": null,
      "outputs": []
    }
  ]
}